{
 "cells": [
  {
   "cell_type": "code",
   "execution_count": 1,
   "id": "8503f826",
   "metadata": {},
   "outputs": [
    {
     "data": {
      "text/html": [
       "<div>\n",
       "<style scoped>\n",
       "    .dataframe tbody tr th:only-of-type {\n",
       "        vertical-align: middle;\n",
       "    }\n",
       "\n",
       "    .dataframe tbody tr th {\n",
       "        vertical-align: top;\n",
       "    }\n",
       "\n",
       "    .dataframe thead th {\n",
       "        text-align: right;\n",
       "    }\n",
       "</style>\n",
       "<table border=\"1\" class=\"dataframe\">\n",
       "  <thead>\n",
       "    <tr style=\"text-align: right;\">\n",
       "      <th></th>\n",
       "      <th>TEAM</th>\n",
       "      <th>GP</th>\n",
       "      <th>W</th>\n",
       "      <th>L</th>\n",
       "      <th>WIN%</th>\n",
       "      <th>MIN</th>\n",
       "      <th>PTS</th>\n",
       "      <th>FGM</th>\n",
       "      <th>FGA</th>\n",
       "      <th>FG%</th>\n",
       "      <th>3PM</th>\n",
       "      <th>3PA</th>\n",
       "      <th>3P%</th>\n",
       "      <th>FTM</th>\n",
       "      <th>FTA</th>\n",
       "      <th>FT%</th>\n",
       "      <th>OREB</th>\n",
       "      <th>DREB</th>\n",
       "      <th>REB</th>\n",
       "      <th>AST</th>\n",
       "      <th>TOV</th>\n",
       "      <th>STL</th>\n",
       "      <th>BLK</th>\n",
       "      <th>BLKA</th>\n",
       "      <th>PF</th>\n",
       "      <th>PFD</th>\n",
       "      <th>+/-</th>\n",
       "      <th>MIN.1</th>\n",
       "      <th>OffRtg</th>\n",
       "      <th>DefRtg</th>\n",
       "      <th>NetRtg</th>\n",
       "      <th>AST%</th>\n",
       "      <th>AST/TO</th>\n",
       "      <th>ASTRATIO</th>\n",
       "      <th>OREB%</th>\n",
       "      <th>DREB%</th>\n",
       "      <th>REB%</th>\n",
       "      <th>TOV%</th>\n",
       "      <th>eFG%</th>\n",
       "      <th>TS%</th>\n",
       "      <th>PACE</th>\n",
       "      <th>PACE/40</th>\n",
       "      <th>PIE</th>\n",
       "      <th>Opp_FGM</th>\n",
       "      <th>Opp_FGA</th>\n",
       "      <th>Opp_FG%</th>\n",
       "      <th>Opp_3PM</th>\n",
       "      <th>Opp_3PA</th>\n",
       "      <th>Opp_3P%</th>\n",
       "      <th>Opp_FTM</th>\n",
       "      <th>Opp_FTA</th>\n",
       "      <th>Opp_FT%</th>\n",
       "      <th>Opp_OREB</th>\n",
       "      <th>Opp_DREB</th>\n",
       "      <th>Opp_REB</th>\n",
       "      <th>Opp_AST</th>\n",
       "      <th>Opp_TOV</th>\n",
       "      <th>Opp_STL</th>\n",
       "      <th>Opp_BLK</th>\n",
       "      <th>Opp_BLKA</th>\n",
       "      <th>Opp_PF</th>\n",
       "      <th>Opp_PFD</th>\n",
       "      <th>Opp_PTS</th>\n",
       "      <th>Opp_+/-</th>\n",
       "    </tr>\n",
       "  </thead>\n",
       "  <tbody>\n",
       "    <tr>\n",
       "      <th>0</th>\n",
       "      <td>Washington Mystics</td>\n",
       "      <td>14.0</td>\n",
       "      <td>6.0</td>\n",
       "      <td>8.0</td>\n",
       "      <td>0.429</td>\n",
       "      <td>40.4</td>\n",
       "      <td>79.5</td>\n",
       "      <td>27.6</td>\n",
       "      <td>63.0</td>\n",
       "      <td>43.8</td>\n",
       "      <td>5.6</td>\n",
       "      <td>16.6</td>\n",
       "      <td>33.6</td>\n",
       "      <td>18.8</td>\n",
       "      <td>25.6</td>\n",
       "      <td>73.5</td>\n",
       "      <td>8.8</td>\n",
       "      <td>27.1</td>\n",
       "      <td>35.9</td>\n",
       "      <td>18.4</td>\n",
       "      <td>16.1</td>\n",
       "      <td>6.6</td>\n",
       "      <td>3.1</td>\n",
       "      <td>4.1</td>\n",
       "      <td>21.4</td>\n",
       "      <td>22.9</td>\n",
       "      <td>-1.6</td>\n",
       "      <td>565.0</td>\n",
       "      <td>98.5</td>\n",
       "      <td>101.0</td>\n",
       "      <td>-2.5</td>\n",
       "      <td>66.8</td>\n",
       "      <td>1.14</td>\n",
       "      <td>16.5</td>\n",
       "      <td>31.9</td>\n",
       "      <td>71.6</td>\n",
       "      <td>52.4</td>\n",
       "      <td>20.0</td>\n",
       "      <td>48.2</td>\n",
       "      <td>53.5</td>\n",
       "      <td>95.75</td>\n",
       "      <td>79.79</td>\n",
       "      <td>50.0</td>\n",
       "      <td>27.3</td>\n",
       "      <td>66.2</td>\n",
       "      <td>41.2</td>\n",
       "      <td>8.6</td>\n",
       "      <td>28.0</td>\n",
       "      <td>30.9</td>\n",
       "      <td>17.9</td>\n",
       "      <td>22.4</td>\n",
       "      <td>79.6</td>\n",
       "      <td>8.1</td>\n",
       "      <td>24.4</td>\n",
       "      <td>32.5</td>\n",
       "      <td>18.6</td>\n",
       "      <td>14.4</td>\n",
       "      <td>8.3</td>\n",
       "      <td>4.1</td>\n",
       "      <td>3.1</td>\n",
       "      <td>22.9</td>\n",
       "      <td>21.4</td>\n",
       "      <td>81.1</td>\n",
       "      <td>1.6</td>\n",
       "    </tr>\n",
       "  </tbody>\n",
       "</table>\n",
       "</div>"
      ],
      "text/plain": [
       "                 TEAM    GP    W    L   WIN%   MIN   PTS   FGM   FGA   FG%  \\\n",
       "0  Washington Mystics  14.0  6.0  8.0  0.429  40.4  79.5  27.6  63.0  43.8   \n",
       "\n",
       "   3PM   3PA   3P%   FTM   FTA   FT%  OREB  DREB   REB   AST   TOV  STL  BLK  \\\n",
       "0  5.6  16.6  33.6  18.8  25.6  73.5   8.8  27.1  35.9  18.4  16.1  6.6  3.1   \n",
       "\n",
       "   BLKA    PF   PFD  +/-  MIN.1  OffRtg  DefRtg  NetRtg  AST%  AST/TO  \\\n",
       "0   4.1  21.4  22.9 -1.6  565.0    98.5   101.0    -2.5  66.8    1.14   \n",
       "\n",
       "   ASTRATIO  OREB%  DREB%  REB%  TOV%  eFG%   TS%   PACE  PACE/40   PIE  \\\n",
       "0      16.5   31.9   71.6  52.4  20.0  48.2  53.5  95.75    79.79  50.0   \n",
       "\n",
       "   Opp_FGM  Opp_FGA  Opp_FG%  Opp_3PM  Opp_3PA  Opp_3P%  Opp_FTM  Opp_FTA  \\\n",
       "0     27.3     66.2     41.2      8.6     28.0     30.9     17.9     22.4   \n",
       "\n",
       "   Opp_FT%  Opp_OREB  Opp_DREB  Opp_REB  Opp_AST  Opp_TOV  Opp_STL  Opp_BLK  \\\n",
       "0     79.6       8.1      24.4     32.5     18.6     14.4      8.3      4.1   \n",
       "\n",
       "   Opp_BLKA  Opp_PF  Opp_PFD  Opp_PTS  Opp_+/-  \n",
       "0       3.1    22.9     21.4     81.1      1.6  "
      ]
     },
     "execution_count": 1,
     "metadata": {},
     "output_type": "execute_result"
    }
   ],
   "source": [
    "import pandas as pd\n",
    "\n",
    "pd.set_option('display.max_columns', None)  # Show all columns in the DataFrame\n",
    "df = pd.read_csv('C:/Users/admin/OneDrive/Desktop/Web Design/Portfolio/Player Analysis/wnba_stats_23June25.csv')\n",
    "\n",
    "df.head(1)"
   ]
  },
  {
   "cell_type": "code",
   "execution_count": 2,
   "id": "6669ac85",
   "metadata": {},
   "outputs": [],
   "source": [
    "#Drop missing values\n",
    "df.dropna(inplace=True)\n",
    "\n",
    "df[\"Win\"] = df['PTS'] > df['Opp_PTS']\n",
    "df['Win'] = df['Win'].astype(int)\n",
    "\n",
    "determinants = ['TOV', 'FG%', '3P%', 'FT%', 'REB', 'NetRtg', 'Opp_FG%', 'Opp_3P%', 'Opp_FTM', 'Opp_REB', 'Opp_TOV']\n",
    "x = df[determinants]\n",
    "y = df['Win']"
   ]
  },
  {
   "cell_type": "code",
   "execution_count": 3,
   "id": "e009f800",
   "metadata": {},
   "outputs": [
    {
     "name": "stdout",
     "output_type": "stream",
     "text": [
      "Model Accuracy: 0.75\n"
     ]
    }
   ],
   "source": [
    "from sklearn.model_selection import train_test_split\n",
    "from sklearn.ensemble import RandomForestClassifier\n",
    "from sklearn.metrics import accuracy_score\n",
    "\n",
    "x_train, x_test, y_train, y_test = train_test_split(x, y, test_size=0.3, random_state=42)\n",
    "model = RandomForestClassifier(n_estimators=100, random_state=42)\n",
    "model.fit(x_train, y_train)\n",
    "\n",
    "y_pred = model.predict(x_test)\n",
    "\n",
    "accuracy = accuracy_score(y_test, y_pred)\n",
    "print(f\"Model Accuracy: {accuracy:.2f}\")"
   ]
  },
  {
   "cell_type": "code",
   "execution_count": 4,
   "id": "cb281141",
   "metadata": {},
   "outputs": [],
   "source": [
    "def predict_matchup(team_a, team_b):\n",
    "    # Get both team stats\n",
    "    team_a_stats = df[df['TEAM'] == team_a]\n",
    "    team_b_stats = df[df['TEAM'] == team_b]\n",
    "    \n",
    "    if team_a_stats.empty or team_b_stats.empty:\n",
    "        return \"One or both team names not found.\"\n",
    "\n",
    "    # Create a synthetic matchup: team A vs. team B\n",
    "    # We treat team A as the team being predicted, and team B as the opponent\n",
    "    # Prepare input data for prediction using the determinants/features\n",
    "    input_data = pd.DataFrame([{\n",
    "        'TOV': team_a_stats['TOV'].values[0],\n",
    "        'FG%': team_a_stats['FG%'].values[0],\n",
    "        '3P%': team_a_stats['3P%'].values[0],\n",
    "        'FT%': team_a_stats['FT%'].values[0],\n",
    "        'REB': team_a_stats['REB'].values[0],\n",
    "        'NetRtg': team_a_stats['NetRtg'].values[0],\n",
    "        'Opp_FG%': team_b_stats['FG%'].values[0],\n",
    "        'Opp_3P%': team_b_stats['3P%'].values[0],\n",
    "        'Opp_FTM': team_b_stats['FTM'].values[0],\n",
    "        'Opp_REB': team_b_stats['REB'].values[0],\n",
    "        'Opp_TOV': team_b_stats['TOV'].values[0],\n",
    "    }])\n",
    "    \n",
    "    prediction = model.predict(input_data)[0]\n",
    "    winner = team_a if prediction == 1 else team_b\n",
    "    loser = team_b if prediction == 1 else team_a\n",
    "    return f\"{winner} is more likely to beat {loser}.\""
   ]
  },
  {
   "cell_type": "code",
   "execution_count": 5,
   "id": "38c25902",
   "metadata": {},
   "outputs": [
    {
     "data": {
      "text/plain": [
       "'New York Liberty is more likely to beat Golden State Valkyries.'"
      ]
     },
     "execution_count": 5,
     "metadata": {},
     "output_type": "execute_result"
    }
   ],
   "source": [
    "predict_matchup(\"Golden State Valkyries\", \"New York Liberty\")\n",
    "\n"
   ]
  },
  {
   "cell_type": "code",
   "execution_count": null,
   "id": "88fb8bcb",
   "metadata": {},
   "outputs": [],
   "source": [
    "predict_matchup(\"Washington Mystics\", \"Minnesota Lynx\")"
   ]
  },
  {
   "cell_type": "code",
   "execution_count": null,
   "id": "f5c50ef6",
   "metadata": {},
   "outputs": [],
   "source": [
    "predict_matchup(\"Indiana Fever\", \"Seattle Storm\")"
   ]
  },
  {
   "cell_type": "code",
   "execution_count": 7,
   "id": "17d252d8",
   "metadata": {},
   "outputs": [],
   "source": [
    "\n",
    "bucket_determinants = ['TOV', 'FG%', 'FGM', '3P%', 'FT%', 'REB', 'AST', 'Opp_REB', 'Opp_TOV', 'Opp_BLK', 'Opp_STL']\n",
    "xx = df[bucket_determinants]\n",
    "yy = df['PTS'].astype(int)"
   ]
  },
  {
   "cell_type": "code",
   "execution_count": 21,
   "id": "90918fca",
   "metadata": {},
   "outputs": [
    {
     "name": "stdout",
     "output_type": "stream",
     "text": [
      "Points Prediction Model Accuracy: 0.12\n"
     ]
    }
   ],
   "source": [
    "from sklearn.model_selection import train_test_split\n",
    "from sklearn.ensemble import RandomForestRegressor\n",
    "from sklearn.metrics import accuracy_score\n",
    "\n",
    "x_train, x_test, y_train, y_test = train_test_split(xx, yy, test_size=0.3, random_state=41)\n",
    "pointsmodel = RandomForestRegressor()\n",
    "pointsmodel.fit(x_train, y_train)\n",
    "\n",
    "accuracy = pointsmodel.score(x_test, y_test)\n",
    "print(f\"Points Prediction Model Accuracy: {accuracy:.2f}\")"
   ]
  },
  {
   "cell_type": "code",
   "execution_count": 13,
   "id": "c8a2b708",
   "metadata": {},
   "outputs": [],
   "source": [
    "def point_difference(team_a, team_b):\n",
    "    def predict_points(team_a, team_b):\n",
    "    # Get both team stats\n",
    "        team_a_stats = df[df['TEAM'] == team_a]\n",
    "        team_b_stats = df[df['TEAM'] == team_b]\n",
    "    \n",
    "        if team_a_stats.empty or team_b_stats.empty:\n",
    "            return \"One or both team names not found.\"\n",
    "\n",
    "    # Create a synthetic matchup: team A vs. team B\n",
    "    # We treat team A as the team being predicted, and team B as the opponent\n",
    "    # Prepare input data for prediction using the determinants/features\n",
    "        input_data = pd.DataFrame([{\n",
    "            'TOV': team_a_stats['TOV'].values[0],\n",
    "            'FG%': team_a_stats['FG%'].values[0],\n",
    "            'FGM': team_a_stats['FGM'].values[0],\n",
    "            '3P%': team_a_stats['3P%'].values[0],\n",
    "            'FT%': team_a_stats['FT%'].values[0],\n",
    "            'REB': team_a_stats['REB'].values[0],\n",
    "            'AST': team_a_stats['AST'].values[0],\n",
    "            'Opp_REB': team_b_stats['REB'].values[0],\n",
    "            'Opp_TOV': team_b_stats['TOV'].values[0],\n",
    "            'Opp_BLK': team_b_stats['BLK'].values[0],\n",
    "            'Opp_STL': team_b_stats['STL'].values[0],\n",
    "        }])\n",
    "    \n",
    "        prediction = pointsmodel.predict(input_data)[0]\n",
    "        return prediction\n",
    "        #return f\"{team_a} is predicted to score {prediction} points against {team_b}.\"\n",
    "    team_a_points = predict_points(team_a, team_b)\n",
    "    team_b_points = predict_points(team_b, team_a)\n",
    "    return f\"{team_a} will score {team_a_points} and {team_b} will score {team_b_points} \\n The point difference is {team_a_points - team_b_points} points.\""
   ]
  },
  {
   "cell_type": "code",
   "execution_count": 22,
   "id": "aa06a1ef",
   "metadata": {},
   "outputs": [
    {
     "data": {
      "text/plain": [
       "'Connecticut Sun will score 75.89 and Las Vegas Aces will score 79.91 \\n The point difference is -4.019999999999996 points.'"
      ]
     },
     "execution_count": 22,
     "metadata": {},
     "output_type": "execute_result"
    }
   ],
   "source": [
    "point_difference(\"Connecticut Sun\", \"Las Vegas Aces\")"
   ]
  }
 ],
 "metadata": {
  "kernelspec": {
   "display_name": "base",
   "language": "python",
   "name": "python3"
  },
  "language_info": {
   "codemirror_mode": {
    "name": "ipython",
    "version": 3
   },
   "file_extension": ".py",
   "mimetype": "text/x-python",
   "name": "python",
   "nbconvert_exporter": "python",
   "pygments_lexer": "ipython3",
   "version": "3.9.12"
  }
 },
 "nbformat": 4,
 "nbformat_minor": 5
}
